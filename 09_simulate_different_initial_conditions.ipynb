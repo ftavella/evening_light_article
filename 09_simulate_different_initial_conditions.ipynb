{
 "cells": [
  {
   "cell_type": "code",
   "execution_count": 1,
   "metadata": {},
   "outputs": [],
   "source": [
    "import os\n",
    "import numpy as np\n",
    "import pandas as pd\n",
    "from tqdm.notebook import tqdm\n",
    "import matplotlib.pyplot as plt\n",
    "from circadian.models import Skeldon23\n",
    "from circadian.lights import LightSchedule\n",
    "from utils.helper_functions import H_thresholds"
   ]
  },
  {
   "cell_type": "code",
   "execution_count": 2,
   "metadata": {},
   "outputs": [],
   "source": [
    "save_path = 'data/different_initial_conditions'\n",
    "if not os.path.exists(save_path):\n",
    "    os.makedirs(save_path)"
   ]
  },
  {
   "cell_type": "code",
   "execution_count": null,
   "metadata": {},
   "outputs": [],
   "source": [
    "light_data_location = 'data/light_schedules/'\n",
    "\n",
    "dt = 0.005 # hours\n",
    "days = 14.0\n",
    "regular_indoor_lux = 500.0\n",
    "time = np.arange(0, 24*days, dt)\n",
    "\n",
    "parameters = {\n",
    "    'mu': 19.0,\n",
    "    'Delta': 6.0,\n",
    "    'chi': 11.0,\n",
    "    'k': 0.55,\n",
    "    'p': 0.6,\n",
    "    'tauc': 24.2,\n",
    "}\n",
    "\n",
    "lights_on_start_times = [4, 5, 6, 7, 8, 9]\n",
    "regular_light_options = []\n",
    "\n",
    "\n",
    "for lights_on in lights_on_start_times:\n",
    "    regular_light = LightSchedule.Regular(regular_indoor_lux, lights_on=lights_on, lights_off=int(np.mod(lights_on + 16, 24)))\n",
    "    regular_light_options.append(regular_light(time))"
   ]
  },
  {
   "cell_type": "code",
   "execution_count": 9,
   "metadata": {},
   "outputs": [
    {
     "data": {
      "application/vnd.jupyter.widget-view+json": {
       "model_id": "7de292e7172547ce8a360b0bbb425b36",
       "version_major": 2,
       "version_minor": 0
      },
      "text/plain": [
       "  0%|          | 0/1 [00:00<?, ?it/s]"
      ]
     },
     "metadata": {},
     "output_type": "display_data"
    }
   ],
   "source": [
    "forced_wakeup_threshold = 0.5 # lux\n",
    "\n",
    "chang14_ebook_first_light = np.load(f\"{light_data_location}/chang14_ebook_first_light.npy\")\n",
    "chang14_ebook_second_light = np.load(f\"{light_data_location}/chang14_ebook_second_light.npy\")\n",
    "chang14_high_ebook_first_light = np.load(f\"{light_data_location}/chang14_high_ebook_first_light.npy\")\n",
    "chang14_high_ebook_second_light = np.load(f\"{light_data_location}/chang14_high_ebook_second_light.npy\")\n",
    "\n",
    "results = {}\n",
    "\n",
    "idx = 0\n",
    "for regular_light in tqdm(regular_light_options):\n",
    "    start_time = lights_on_start_times[idx]\n",
    "    idx += 1\n",
    "    # Equilibrate\n",
    "    mu = parameters['mu']\n",
    "    delta = parameters['Delta']\n",
    "    chi = parameters['chi']\n",
    "    p = parameters['p']\n",
    "    k = parameters['k']\n",
    "    tauc = parameters['tauc']\n",
    "\n",
    "    parameters = {'S0': 1.0, 'mu': mu, 'Delta': delta, 'chi': chi, 'p': p, 'k': k, 'tauc': tauc, \n",
    "                  'forced_wakeup_light_threshold': forced_wakeup_threshold,}\n",
    "    equilibration_model = Skeldon23(params=parameters)\n",
    "    initial_condition = equilibration_model.equilibrate(time, regular_light, num_loops=10)\n",
    "\n",
    "    # Simulate\n",
    "    parameters = {\n",
    "        'S0': 1.0,\n",
    "        'mu': mu, 'Delta': delta, 'chi': chi,\n",
    "        'p': p, 'k': k, 'tauc': tauc,\n",
    "        'forced_wakeup_light_threshold': forced_wakeup_threshold,\n",
    "    }\n",
    "    # Chang14 Ebook first simulation\n",
    "    chang14_ebook_first_model = Skeldon23(params=parameters)\n",
    "    chang14_ebook_first_trajectory = chang14_ebook_first_model.integrate(time, \n",
    "                                                                        initial_condition=initial_condition, \n",
    "                                                                        input=chang14_ebook_first_light)\n",
    "    \n",
    "    # Chang14 Ebook second simulation\n",
    "    chang14_ebook_second_model = Skeldon23(params=parameters)\n",
    "    chang14_ebook_second_trajectory = chang14_ebook_second_model.integrate(time, \n",
    "                                                        initial_condition=initial_condition,\n",
    "                                                        input=chang14_ebook_second_light)\n",
    "    chang14_ebook_second_H_plus, chang14_ebook_second_H_minus = H_thresholds(chang14_ebook_second_model, chang14_ebook_second_trajectory)\n",
    "\n",
    "    ebook_first_cbtmin = chang14_ebook_first_model.cbt(chang14_ebook_first_trajectory)[:-1]\n",
    "    ebook_second_cbtmin = chang14_ebook_second_model.cbt(chang14_ebook_second_trajectory)[:-1]\n",
    "\n",
    "    # Chang14 High Ebook first simulation\n",
    "    chang14_high_ebook_first_model = Skeldon23(params=parameters)\n",
    "    chang14_high_ebook_first_trajectory = chang14_high_ebook_first_model.integrate(time,\n",
    "                                                                                initial_condition=initial_condition,\n",
    "                                                                                input=chang14_high_ebook_first_light)\n",
    "    chang14_high_ebook_first_H_plus, chang14_high_ebook_first_H_minus = H_thresholds(chang14_high_ebook_first_model, chang14_high_ebook_first_trajectory)\n",
    "    # Chang14 High Ebook second simulation\n",
    "    chang14_high_ebook_second_model = Skeldon23(params=parameters)\n",
    "    chang14_high_ebook_second_trajectory = chang14_high_ebook_second_model.integrate(time,\n",
    "                                                                                initial_condition=initial_condition,\n",
    "                                                                                input=chang14_high_ebook_second_light)\n",
    "\n",
    "    # Save data\n",
    "    np.savez(f\"{save_path}/different_initial_conditions_{start_time}_lights_on.npz\",\n",
    "            time=time,\n",
    "            parameters=parameters,\n",
    "            initial_condition=initial_condition,\n",
    "            regular_light=regular_light,\n",
    "            regular_sleep=equilibration_model.sleep_state,\n",
    "            chang14_ebook_first_trajectory_states=chang14_ebook_first_trajectory.states,\n",
    "            chang14_ebook_first_light=chang14_ebook_first_light,\n",
    "            chang14_ebook_first_sleep=chang14_ebook_first_model.sleep_state,\n",
    "            chang14_ebook_second_trajectory_states=chang14_ebook_second_trajectory.states,\n",
    "            chang14_ebook_second_light=chang14_ebook_second_light,\n",
    "            chang14_ebook_second_sleep=chang14_ebook_second_model.sleep_state,\n",
    "            chang14_ebook_second_H_plus=chang14_ebook_second_H_plus,\n",
    "            chang14_ebook_second_H_minus=chang14_ebook_second_H_minus,\n",
    "            chang14_high_ebook_first_trajectory_states=chang14_high_ebook_first_trajectory.states,\n",
    "            chang14_high_ebook_first_light=chang14_high_ebook_first_light,\n",
    "            chang14_high_ebook_first_sleep=chang14_high_ebook_first_model.sleep_state,\n",
    "            chang14_high_ebook_first_H_plus=chang14_high_ebook_first_H_plus,\n",
    "            chang14_high_ebook_first_H_minus=chang14_high_ebook_first_H_minus,\n",
    "            chang14_high_ebook_second_trajectory_states=chang14_high_ebook_second_trajectory.states,\n",
    "            chang14_high_ebook_second_light=chang14_high_ebook_second_light,\n",
    "            chang14_high_ebook_second_sleep=chang14_high_ebook_second_model.sleep_state,\n",
    "    )"
   ]
  },
  {
   "cell_type": "code",
   "execution_count": null,
   "metadata": {},
   "outputs": [],
   "source": []
  }
 ],
 "metadata": {
  "kernelspec": {
   "display_name": ".venv",
   "language": "python",
   "name": "python3"
  },
  "language_info": {
   "codemirror_mode": {
    "name": "ipython",
    "version": 3
   },
   "file_extension": ".py",
   "mimetype": "text/x-python",
   "name": "python",
   "nbconvert_exporter": "python",
   "pygments_lexer": "ipython3",
   "version": "3.12.3"
  }
 },
 "nbformat": 4,
 "nbformat_minor": 2
}
