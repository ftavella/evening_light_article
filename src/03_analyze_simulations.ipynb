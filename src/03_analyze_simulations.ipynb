{
 "cells": [
  {
   "cell_type": "code",
   "execution_count": 1,
   "metadata": {},
   "outputs": [],
   "source": [
    "import os\n",
    "import re\n",
    "import numpy as np\n",
    "import pandas as pd\n",
    "from utils.helper_functions import find_files_in_dir, sleep_metrics, calculate_cbtmin"
   ]
  },
  {
   "cell_type": "markdown",
   "metadata": {},
   "source": [
    "# Chang14 simulations"
   ]
  },
  {
   "cell_type": "code",
   "execution_count": 7,
   "metadata": {},
   "outputs": [],
   "source": [
    "simulation_condition_names = [\n",
    "    \"sleep_parameters\", \"circadian_parameters\",\n",
    "]\n",
    "chang14_save_paths = [\n",
    "    \"../data/simulations/chang14_sleep_parameters\",\n",
    "    \"../data/simulations/chang14_circadian_parameters\",\n",
    "]\n",
    "baseline_lux_values = [90, 500]\n",
    "bedtime = 22.0\n",
    "ebook_order_options = [\"ebook_first\", \"ebook_second\"]\n",
    "time = np.load(\"../data/light_schedules/time.npy\")\n",
    "daily_condition_options = {\n",
    "    'ebook_first': [\n",
    "        'None',\n",
    "        'eBook', 'eBook', 'eBook', 'eBook', 'eBook',\n",
    "        'None',\n",
    "        'Book', 'Book', 'Book', 'Book', 'Book',\n",
    "        'None',\n",
    "    ],\n",
    "    'ebook_second': [\n",
    "        'None',\n",
    "        'Book', 'Book', 'Book', 'Book', 'Book',\n",
    "        'None',\n",
    "        'eBook', 'eBook', 'eBook', 'eBook', 'eBook',\n",
    "        'None',\n",
    "    ],\n",
    "}"
   ]
  },
  {
   "cell_type": "code",
   "execution_count": 11,
   "metadata": {},
   "outputs": [
    {
     "name": "stdout",
     "output_type": "stream",
     "text": [
      "Saved ../data/simulations/chang14_sleep_parameters/chang14_sleep_parameters_features.csv\n",
      "Saved ../data/simulations/chang14_circadian_parameters/chang14_circadian_parameters_features.csv\n"
     ]
    }
   ],
   "source": [
    "for jdx in range(len(simulation_condition_names)):\n",
    "    results = pd.DataFrame()\n",
    "    simulation_condition = simulation_condition_names[jdx]\n",
    "    save_path = chang14_save_paths[jdx]\n",
    "    for kdx in range(len(baseline_lux_values)):\n",
    "        baseline_lux = baseline_lux_values[kdx]\n",
    "        for ldx in range(len(ebook_order_options)):\n",
    "            ebook_order = ebook_order_options[ldx]\n",
    "            pattern = re.compile(\n",
    "                rf\"baseline_lux_{baseline_lux}_{ebook_order}_simulation_(\\d+).npz\"\n",
    "            )\n",
    "            files = find_files_in_dir(save_path, pattern)\n",
    "            for filename in files:\n",
    "                simulation_idx = int(re.search(pattern, filename).group(1))\n",
    "                data = np.load(filename, allow_pickle=True)\n",
    "                sleep = data[\"sleep\"]\n",
    "                states = data[\"trajectory_states\"]\n",
    "                parameters = data[\"parameters\"]\n",
    "                sleep_duration, sleep_onset, _ = sleep_metrics(time, sleep)\n",
    "                cbtmin = calculate_cbtmin(time, states)\n",
    "\n",
    "                min_length = min(\n",
    "                    len(sleep_duration), len(sleep_onset), len(cbtmin)\n",
    "                )\n",
    "                sleep_duration = sleep_duration[:min_length]\n",
    "                sleep_onset = sleep_onset[:min_length]\n",
    "                cbtmin = cbtmin[:min_length]\n",
    "\n",
    "                days = np.arange(1, min_length + 1)\n",
    "\n",
    "                normalized_sleep_onset = sleep_onset - days * 24 + 24\n",
    "                normalized_cbtmin = cbtmin - days * 24 + 24\n",
    "                normalized_sleep_latency = (normalized_sleep_onset - bedtime) * 60\n",
    "                normalized_sleep_latency[normalized_sleep_latency < 0] = 0.0\n",
    "\n",
    "                results = pd.concat([results, pd.DataFrame({\n",
    "                    'simulation_idx': [simulation_idx] * min_length,\n",
    "                    'day': days,\n",
    "                    'simulation_condition': [ebook_order] * min_length,\n",
    "                    'sleep_onset': normalized_sleep_onset,\n",
    "                    'sleep_duration': sleep_duration,\n",
    "                    'cbtmin': normalized_cbtmin,\n",
    "                    'sleep_latency_minutes': normalized_sleep_latency,\n",
    "                    'daily_condition': daily_condition_options[ebook_order][:min_length],\n",
    "                    'baseline_lux': [baseline_lux] * min_length,\n",
    "                })])\n",
    "    results.to_csv(f\"{save_path}/chang14_{simulation_condition}_features.csv\", index=False)\n",
    "    print(f\"Saved {save_path}/chang14_{simulation_condition}_features.csv\")"
   ]
  },
  {
   "cell_type": "markdown",
   "metadata": {},
   "source": [
    "# Different initial conditions"
   ]
  },
  {
   "cell_type": "code",
   "execution_count": 7,
   "metadata": {},
   "outputs": [],
   "source": [
    "simulation_condition_names = [\n",
    "    \"different_initial_conditions\"\n",
    "]\n",
    "chang14_save_paths = [\n",
    "    \"../data/simulations/different_initial_conditions\",\n",
    "]\n",
    "baseline_lux_values = [90, 500]\n",
    "lights_on_times = [4, 5, 6, 7, 8, 9, 10, 11]\n",
    "bedtime = 22.0\n",
    "ebook_order_options = [\"ebook_first\", \"ebook_second\"]\n",
    "time = np.load(\"../data/light_schedules/time.npy\")\n",
    "daily_condition_options = {\n",
    "    'ebook_first': [\n",
    "        'None',\n",
    "        'eBook', 'eBook', 'eBook', 'eBook', 'eBook',\n",
    "        'None',\n",
    "        'Book', 'Book', 'Book', 'Book', 'Book',\n",
    "        'None',\n",
    "    ],\n",
    "    'ebook_second': [\n",
    "        'None',\n",
    "        'Book', 'Book', 'Book', 'Book', 'Book',\n",
    "        'None',\n",
    "        'eBook', 'eBook', 'eBook', 'eBook', 'eBook',\n",
    "        'None',\n",
    "    ],\n",
    "}"
   ]
  },
  {
   "cell_type": "code",
   "execution_count": 3,
   "metadata": {},
   "outputs": [
    {
     "name": "stdout",
     "output_type": "stream",
     "text": [
      "Saved ../data/simulations/different_initial_conditions/chang14_different_initial_conditions_features.csv\n"
     ]
    }
   ],
   "source": [
    "for jdx in range(len(simulation_condition_names)):\n",
    "    results = pd.DataFrame()\n",
    "    simulation_condition = simulation_condition_names[jdx]\n",
    "    save_path = chang14_save_paths[jdx]\n",
    "    for kdx in range(len(baseline_lux_values)):\n",
    "        baseline_lux = baseline_lux_values[kdx]\n",
    "        for ldx in range(len(ebook_order_options)):\n",
    "            ebook_order = ebook_order_options[ldx]\n",
    "            pattern = re.compile(\n",
    "                rf\"baseline_lux_{baseline_lux}_{ebook_order}_simulation_lights_on_(\\d+).npz\"\n",
    "            )\n",
    "            files = find_files_in_dir(save_path, pattern)\n",
    "            for filename in files:\n",
    "                lights_on = int(re.search(pattern, filename).group(1))\n",
    "                data = np.load(filename, allow_pickle=True)\n",
    "                sleep = data[\"sleep\"]\n",
    "                states = data[\"trajectory_states\"]\n",
    "                parameters = data[\"parameters\"]\n",
    "                sleep_duration, sleep_onset, _ = sleep_metrics(time, sleep)\n",
    "                cbtmin = calculate_cbtmin(time, states)\n",
    "\n",
    "                min_length = min(\n",
    "                    len(sleep_duration), len(sleep_onset), len(cbtmin)\n",
    "                )\n",
    "                sleep_duration = sleep_duration[:min_length]\n",
    "                sleep_onset = sleep_onset[:min_length]\n",
    "                cbtmin = cbtmin[:min_length]\n",
    "\n",
    "                days = np.arange(1, min_length + 1)\n",
    "\n",
    "                normalized_sleep_onset = sleep_onset - days * 24 + 24\n",
    "                normalized_cbtmin = cbtmin - days * 24 + 24\n",
    "                normalized_sleep_latency = (normalized_sleep_onset - bedtime) * 60\n",
    "                normalized_sleep_latency[normalized_sleep_latency < 0] = 0.0\n",
    "\n",
    "                results = pd.concat([results, pd.DataFrame({\n",
    "                    'lights_on': lights_on,\n",
    "                    'day': days,\n",
    "                    'simulation_condition': [ebook_order] * min_length,\n",
    "                    'sleep_onset': normalized_sleep_onset,\n",
    "                    'sleep_duration': sleep_duration,\n",
    "                    'cbtmin': normalized_cbtmin,\n",
    "                    'sleep_latency_minutes': normalized_sleep_latency,\n",
    "                    'daily_condition': daily_condition_options[ebook_order][:min_length],\n",
    "                    'baseline_lux': [baseline_lux] * min_length,\n",
    "                })])\n",
    "    results.to_csv(f\"{save_path}/chang14_{simulation_condition}_features.csv\", index=False)\n",
    "    print(f\"Saved {save_path}/chang14_{simulation_condition}_features.csv\")"
   ]
  },
  {
   "cell_type": "code",
   "execution_count": 9,
   "metadata": {},
   "outputs": [
    {
     "name": "stdout",
     "output_type": "stream",
     "text": [
      "Phase shift for lights_on 4:\n",
      "Phase shift for ebook_first: 0.4300000000000068\n",
      "Phase shift for ebook_second: 0.9400000000000261\n",
      "Phase shift for lights_on 5:\n",
      "Phase shift for ebook_first: 0.6350000000000193\n",
      "Phase shift for ebook_second: 0.6800000000000068\n",
      "Phase shift for lights_on 6:\n",
      "Phase shift for ebook_first: 0.8300000000000125\n",
      "Phase shift for ebook_second: 0.4200000000000159\n",
      "Phase shift for lights_on 7:\n",
      "Phase shift for ebook_first: 1.0050000000000239\n",
      "Phase shift for ebook_second: 0.160000000000025\n",
      "Phase shift for lights_on 8:\n",
      "Phase shift for ebook_first: 1.1899999999999982\n",
      "Phase shift for ebook_second: -0.10500000000001819\n",
      "Phase shift for lights_on 9:\n",
      "Phase shift for ebook_first: 1.335000000000008\n",
      "Phase shift for ebook_second: -0.3100000000000023\n",
      "Phase shift for lights_on 10:\n",
      "Phase shift for ebook_first: 1.4899999999999807\n",
      "Phase shift for ebook_second: -0.5400000000000205\n",
      "Phase shift for lights_on 11:\n",
      "Phase shift for ebook_first: 1.6799999999999784\n",
      "Phase shift for ebook_second: -0.8300000000000125\n"
     ]
    }
   ],
   "source": [
    "# Manually calculate phase shift for the different wake times to include in the article\n",
    "for lights_on in lights_on_times:\n",
    "    data = pd.read_csv(f\"{chang14_save_paths[0]}/chang14_different_initial_conditions_features.csv\")\n",
    "    data_ebook_first = data[(data['lights_on'] == lights_on) & (data['baseline_lux'] == 90) & (data['simulation_condition'] == 'ebook_first')]\n",
    "    cbtmin_ebook_for_ebook_first = data_ebook_first[(data_ebook_first['day'] == 7)]['cbtmin'].values[0] \n",
    "    cbtmin_book_for_ebook_first = data_ebook_first[(data_ebook_first['day'] == 13)]['cbtmin'].values[0]\n",
    "    phase_shift_ebook_first = cbtmin_ebook_for_ebook_first - cbtmin_book_for_ebook_first\n",
    "\n",
    "    data_ebook_second = data[(data['lights_on'] == lights_on) & (data['baseline_lux'] == 90) & (data['simulation_condition'] == 'ebook_second')]\n",
    "    cbtmin_book_for_ebook_second = data_ebook_second[(data_ebook_second['day'] == 7)]['cbtmin'].values[0]\n",
    "    cbtmin_ebook_for_ebook_second = data_ebook_second[(data_ebook_second['day'] == 13)]['cbtmin'].values[0]\n",
    "    phase_shift_ebook_second = cbtmin_ebook_for_ebook_second - cbtmin_book_for_ebook_second\n",
    "\n",
    "    print(f\"Phase shift for lights_on {lights_on}:\")\n",
    "    print(f\"Phase shift for ebook_first: {phase_shift_ebook_first}\")\n",
    "    print(f\"Phase shift for ebook_second: {phase_shift_ebook_second}\")"
   ]
  },
  {
   "cell_type": "markdown",
   "metadata": {},
   "source": [
    "# Light pulse simulations"
   ]
  },
  {
   "cell_type": "code",
   "execution_count": 38,
   "metadata": {},
   "outputs": [],
   "source": [
    "data_path = '../data/simulations/light_pulse_simulations'\n",
    "\n",
    "baseline_lux_values = np.array([0, 25, 50, 75, 100, 250, 500, 750, 1000], dtype=float)\n",
    "pulse_at_values = np.linspace(0, 14, 17)\n",
    "\n",
    "simulation_days = 20\n",
    "dt = 0.001\n",
    "last_day_start = int((simulation_days - 1) * 24 / dt)\n",
    "day_length_in_idx = int(24.0 / dt) - 1\n",
    "time_array = np.arange(0, simulation_days * 24, dt)  # Time array for the entire simulation\n",
    "\n",
    "avg_amplitude = np.zeros((len(baseline_lux_values), len(pulse_at_values)), dtype=float)\n",
    "\n",
    "for idx, baseline_lux in enumerate(baseline_lux_values):\n",
    "    for jdx, pulse_at in enumerate(pulse_at_values):\n",
    "        data = np.load(f'{data_path}/baseline_{baseline_lux}_pulse_at_{pulse_at}.npz')\n",
    "        sol = data['sol']\n",
    "        light = data['light_history']\n",
    "        # Calculate amplitude after pulse\n",
    "        time_last_day = time_array[last_day_start:] - time_array[last_day_start]\n",
    "        x_last_day = sol[0, last_day_start:]\n",
    "        xc_last_day = sol[1, last_day_start:]\n",
    "        light_last_day = light[last_day_start:]\n",
    "        amplitude_last_day = np.sqrt(x_last_day ** 2 + xc_last_day ** 2)\n",
    "        avg_amplitude[idx, jdx] = np.mean(amplitude_last_day)\n",
    "\n",
    "# Save average amplitude\n",
    "avg_amplitude_df = pd.DataFrame(avg_amplitude, index=baseline_lux_values, columns=pulse_at_values)\n",
    "avg_amplitude_df.index.name = 'Baseline Lux'\n",
    "avg_amplitude_df.columns.name = 'Pulse At (hours)'\n",
    "avg_amplitude_df.to_csv(f'{data_path}/average_amplitude.csv')"
   ]
  }
 ],
 "metadata": {
  "kernelspec": {
   "display_name": ".venv",
   "language": "python",
   "name": "python3"
  },
  "language_info": {
   "codemirror_mode": {
    "name": "ipython",
    "version": 3
   },
   "file_extension": ".py",
   "mimetype": "text/x-python",
   "name": "python",
   "nbconvert_exporter": "python",
   "pygments_lexer": "ipython3",
   "version": "3.13.2"
  }
 },
 "nbformat": 4,
 "nbformat_minor": 2
}
