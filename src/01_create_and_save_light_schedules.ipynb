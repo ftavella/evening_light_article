{
 "cells": [
  {
   "cell_type": "markdown",
   "metadata": {},
   "source": [
    "Since `Chang14` light schedules with small `dt` take long to generate, we calculate them once and save the results. This notebook generates the time grids and saves them in `data/light_schedules/`."
   ]
  },
  {
   "cell_type": "code",
   "execution_count": 15,
   "metadata": {},
   "outputs": [],
   "source": [
    "import os\n",
    "import copy as cp\n",
    "import numpy as np\n",
    "from circadian.lights import LightSchedule\n",
    "from concurrent.futures import ThreadPoolExecutor"
   ]
  },
  {
   "cell_type": "code",
   "execution_count": 16,
   "metadata": {},
   "outputs": [],
   "source": [
    "save_path = \"../data/light_schedules\"\n",
    "if not os.path.exists(save_path):\n",
    "    os.makedirs(save_path)"
   ]
  },
  {
   "cell_type": "code",
   "execution_count": 17,
   "metadata": {},
   "outputs": [],
   "source": [
    "dt = 0.005 # hours\n",
    "days = 14.0\n",
    "time = np.arange(0, 24.0 * days, dt)"
   ]
  },
  {
   "cell_type": "code",
   "execution_count": 18,
   "metadata": {},
   "outputs": [],
   "source": [
    "regular_parameters = {\n",
    "    \"lux\": 1000.0,\n",
    "    \"lights_on\": 6.0,\n",
    "    \"lights_off\": 22.0,\n",
    "}\n",
    "regular_save_name = \"regular\"\n",
    "chang14_parameters = {\n",
    "    \"dim_lux\": 3.0,\n",
    "    \"ereader_lux\": 31.73,\n",
    "    \"book_lux\": 0.91,\n",
    "    \"reading_start_time\": 18.0,\n",
    "    \"reading_duration\": 4.0,\n",
    "}\n",
    "\n",
    "typical_indoor_lux_options = [0.03, 90, 180, 500, 1260, 9500]\n",
    "chang14_schedule_options = []\n",
    "for lux_value in typical_indoor_lux_options:\n",
    "    parameters = cp.deepcopy(chang14_parameters)\n",
    "    parameters[\"typical_indoor_lux\"] = lux_value\n",
    "    chang14_schedule_options.append(parameters)\n",
    "\n",
    "chang14_save_names = [f\"chang14_light_indoor_lux_{lux_value}\" for lux_value in typical_indoor_lux_options]"
   ]
  },
  {
   "cell_type": "code",
   "execution_count": 19,
   "metadata": {},
   "outputs": [],
   "source": [
    "# Time\n",
    "np.save(f\"{save_path}/time.npy\", time)"
   ]
  },
  {
   "cell_type": "code",
   "execution_count": 20,
   "metadata": {},
   "outputs": [],
   "source": [
    "# Regular\n",
    "schedule = LightSchedule.Regular(**regular_parameters)\n",
    "light = schedule(time)\n",
    "np.save(f\"{save_path}/{regular_save_name}_light.npy\", light)"
   ]
  },
  {
   "cell_type": "code",
   "execution_count": 21,
   "metadata": {},
   "outputs": [
    {
     "name": "stdout",
     "output_type": "stream",
     "text": [
      "Processing idx: 0\n",
      "Processing idx: 1\n",
      "Processing idx: 2\n",
      "Processing idx: 3\n",
      "Processing idx: 4\n",
      "Processing idx: 5\n"
     ]
    }
   ],
   "source": [
    "# Chang14\n",
    "def calculate_light_schedules(idx):\n",
    "    print(f\"Processing idx: {idx}\")\n",
    "    parameters = chang14_schedule_options[idx]\n",
    "    save_name = chang14_save_names[idx]\n",
    "    schedule_ebook_first = LightSchedule.Chang14(**parameters,\n",
    "                                                 first_reading_condition=\"eReader\")\n",
    "    light_ebook_first = schedule_ebook_first(time)\n",
    "    np.save(f\"{save_path}/{save_name}_ebook_first_light.npy\", light_ebook_first,)\n",
    "    schedule_ebook_second = LightSchedule.Chang14(**parameters, \n",
    "                                                  first_reading_condition=\"Book\")\n",
    "    light_ebook_second = schedule_ebook_second(time)\n",
    "    np.save(f\"{save_path}/{save_name}_ebook_second_light.npy\", light_ebook_second)\n",
    "\n",
    "pool_values = range(len(typical_indoor_lux_options))\n",
    "with ThreadPoolExecutor() as executor:\n",
    "    results = list(executor.map(calculate_light_schedules, pool_values))"
   ]
  }
 ],
 "metadata": {
  "kernelspec": {
   "display_name": ".venv",
   "language": "python",
   "name": "python3"
  },
  "language_info": {
   "codemirror_mode": {
    "name": "ipython",
    "version": 3
   },
   "file_extension": ".py",
   "mimetype": "text/x-python",
   "name": "python",
   "nbconvert_exporter": "python",
   "pygments_lexer": "ipython3",
   "version": "3.13.2"
  }
 },
 "nbformat": 4,
 "nbformat_minor": 2
}
