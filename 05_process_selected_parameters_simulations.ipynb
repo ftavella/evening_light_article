{
 "cells": [
  {
   "cell_type": "code",
   "execution_count": 1,
   "metadata": {},
   "outputs": [],
   "source": [
    "import os\n",
    "import numpy as np\n",
    "import pandas as pd\n",
    "from utils.helper_functions import calculate_cbtmin, calculate_sleep_onset"
   ]
  },
  {
   "cell_type": "code",
   "execution_count": 2,
   "metadata": {},
   "outputs": [],
   "source": [
    "save_path = f\"data/chang14_selected_sleep_parameters\"\n",
    "if not os.path.exists(save_path):\n",
    "    os.makedirs(save_path)"
   ]
  },
  {
   "cell_type": "code",
   "execution_count": 3,
   "metadata": {},
   "outputs": [],
   "source": [
    "selected_parameters = pd.read_csv(f\"data/sleep_parameter_exploration/selected_sleep_parameters.csv\",\n",
    "                                  index_col=0)"
   ]
  },
  {
   "cell_type": "code",
   "execution_count": 4,
   "metadata": {},
   "outputs": [],
   "source": [
    "time = np.load(\"data/light_schedules/time.npy\")"
   ]
  },
  {
   "cell_type": "code",
   "execution_count": 39,
   "metadata": {},
   "outputs": [],
   "source": [
    "all_reading_conditions = [\n",
    "    'chang14_ebook_first', 'chang14_ebook_second',\n",
    "    'realistic_ebook_first', 'realistic_ebook_second',\n",
    "]\n",
    "simulation_data_path = \"data/chang14_selected_sleep_parameters\"\n",
    "simulation_features = pd.DataFrame()\n",
    "for idx in selected_parameters.index:\n",
    "    data = np.load(f\"{simulation_data_path}/sleep_parameters_chang14_simulation_{idx}.npz\", \n",
    "                    allow_pickle=True)\n",
    "\n",
    "    regular_sleep_onset = calculate_sleep_onset(time, data, 'regular')\n",
    "    regular_cbtmin = calculate_cbtmin(time, data, 'regular')\n",
    "\n",
    "    # Check if they have the same size\n",
    "    if len(regular_sleep_onset) != len(regular_cbtmin):\n",
    "        # fix the size\n",
    "        if len(regular_sleep_onset) > len(regular_cbtmin):\n",
    "            regular_sleep_onset = regular_sleep_onset[:len(regular_cbtmin)]\n",
    "        else:\n",
    "            regular_cbtmin = regular_cbtmin[:len(regular_sleep_onset)]\n",
    "\n",
    "    normalized_sleep_onset = regular_sleep_onset - np.arange(1, len(regular_sleep_onset) + 1) * 24 + 24\n",
    "    normalized_cbtmin = regular_cbtmin - np.arange(1, len(regular_cbtmin) + 1) * 24 + 24\n",
    "    normalized_sleep_latency = (normalized_sleep_onset - 22.0) * 60\n",
    "    normalized_sleep_latency = (sleep_onset % 24 - 22.0) * 60\n",
    "    normalized_sleep_latency[normalized_sleep_latency < 0] = 0.0\n",
    "\n",
    "    data_subset = {\n",
    "        'simulation_idx': idx,\n",
    "        'day': np.arange(1, len(regular_cbtmin) + 1),\n",
    "        'simulation_condition': 'regular',\n",
    "        'sleep_onset': normalized_sleep_onset,\n",
    "        'cbtmin': normalized_cbtmin,\n",
    "        'sleep_latency_minutes': normalized_sleep_latency,\n",
    "    }\n",
    "\n",
    "    simulation_features = pd.concat([simulation_features, pd.DataFrame(data_subset)])\n",
    "\n",
    "    for reading_condition in all_reading_conditions:\n",
    "        sleep_onset = calculate_sleep_onset(time, data, reading_condition)\n",
    "        cbtmin = calculate_cbtmin(time, data, reading_condition)\n",
    "\n",
    "        if len(sleep_onset) > len(cbtmin):\n",
    "            sleep_onset = sleep_onset[:len(cbtmin)]\n",
    "        else:\n",
    "            cbtmin = cbtmin[:len(sleep_onset)]\n",
    "\n",
    "        normalized_sleep_onset = sleep_onset - np.arange(1, len(sleep_onset) + 1) * 24 + 24\n",
    "        normalized_cbtmin = cbtmin - np.arange(1, len(cbtmin) + 1) * 24 + 24\n",
    "        normalized_sleep_latency = (normalized_sleep_onset - 22.0) * 60\n",
    "        normalized_sleep_latency = (sleep_onset % 24 - 22.0) * 60\n",
    "        normalized_sleep_latency[normalized_sleep_latency < 0] = 0.0\n",
    "\n",
    "        data_subset = {\n",
    "            'simulation_idx': idx,\n",
    "            'day': np.arange(1, len(cbtmin) + 1),\n",
    "            'simulation_condition': reading_condition,\n",
    "            'sleep_onset': normalized_sleep_onset,\n",
    "            'cbtmin': normalized_cbtmin,\n",
    "            'sleep_latency_minutes': normalized_sleep_latency,\n",
    "        }\n",
    "        simulation_features = pd.concat([simulation_features, pd.DataFrame(data_subset)])"
   ]
  },
  {
   "cell_type": "code",
   "execution_count": 40,
   "metadata": {},
   "outputs": [],
   "source": [
    "simulation_features.to_csv(f\"{save_path}/selected_sleep_parameters_simulation_features.csv\",\n",
    "                           index=False)"
   ]
  }
 ],
 "metadata": {
  "kernelspec": {
   "display_name": ".venv",
   "language": "python",
   "name": "python3"
  },
  "language_info": {
   "codemirror_mode": {
    "name": "ipython",
    "version": 3
   },
   "file_extension": ".py",
   "mimetype": "text/x-python",
   "name": "python",
   "nbconvert_exporter": "python",
   "pygments_lexer": "ipython3",
   "version": "3.11.0"
  }
 },
 "nbformat": 4,
 "nbformat_minor": 2
}
