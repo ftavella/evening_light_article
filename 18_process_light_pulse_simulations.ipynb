{
 "cells": [
  {
   "cell_type": "code",
   "execution_count": 1,
   "metadata": {},
   "outputs": [],
   "source": [
    "import numpy as np\n",
    "import pandas as pd\n",
    "import matplotlib.pyplot as plt"
   ]
  },
  {
   "cell_type": "code",
   "execution_count": 2,
   "metadata": {},
   "outputs": [],
   "source": [
    "data_path = 'data/amplitude_simulations/'"
   ]
  },
  {
   "cell_type": "code",
   "execution_count": 55,
   "metadata": {},
   "outputs": [],
   "source": [
    "baseline_lux_values = np.array([0, 25, 50, 75, 100, 250, 500, 750, 1000], dtype=float)\n",
    "pulse_at_values = np.linspace(0, 14, 17)\n",
    "\n",
    "simulation_days = 20\n",
    "dt = 0.001\n",
    "last_day_start = int((simulation_days - 1) * 24 / dt)\n",
    "day_length_in_idx = int(24.0 / dt) - 1\n",
    "time_array = np.arange(0, simulation_days * 24, dt)  # Time array for the entire simulation\n",
    "\n",
    "avg_amplitude = np.zeros((len(baseline_lux_values), len(pulse_at_values)), dtype=float)\n",
    "\n",
    "for idx, baseline_lux in enumerate(baseline_lux_values):\n",
    "    for jdx, pulse_at in enumerate(pulse_at_values):\n",
    "        data = np.load(f'{data_path}baseline_{baseline_lux}_pulse_at_{pulse_at}.npz')\n",
    "        sol = data['sol']\n",
    "        light = data['light_history']\n",
    "        # Calculate amplitude after pulse\n",
    "        time_last_day = time_array[last_day_start:] - time_array[last_day_start]\n",
    "        x_last_day = sol[0, last_day_start:]\n",
    "        xc_last_day = sol[1, last_day_start:]\n",
    "        light_last_day = light[last_day_start:]\n",
    "        amplitude_last_day = np.sqrt(x_last_day ** 2 + xc_last_day ** 2)\n",
    "        avg_amplitude[idx, jdx] = np.mean(amplitude_last_day)\n",
    "\n",
    "# Save average amplitude\n",
    "avg_amplitude_df = pd.DataFrame(avg_amplitude, index=baseline_lux_values, columns=pulse_at_values)\n",
    "avg_amplitude_df.index.name = 'Baseline Lux'\n",
    "avg_amplitude_df.columns.name = 'Pulse At (hours)'\n",
    "avg_amplitude_df.to_csv(f'{data_path}average_amplitude.csv')"
   ]
  }
 ],
 "metadata": {
  "kernelspec": {
   "display_name": ".venv",
   "language": "python",
   "name": "python3"
  },
  "language_info": {
   "codemirror_mode": {
    "name": "ipython",
    "version": 3
   },
   "file_extension": ".py",
   "mimetype": "text/x-python",
   "name": "python",
   "nbconvert_exporter": "python",
   "pygments_lexer": "ipython3",
   "version": "3.13.2"
  }
 },
 "nbformat": 4,
 "nbformat_minor": 2
}
