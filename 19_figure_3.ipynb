{
 "cells": [
  {
   "cell_type": "code",
   "execution_count": 1,
   "metadata": {},
   "outputs": [],
   "source": [
    "import numpy as np\n",
    "import pandas as pd\n",
    "import matplotlib.pyplot as plt\n",
    "import matplotlib.colors as colors\n",
    "import matplotlib.patches as patches"
   ]
  },
  {
   "cell_type": "code",
   "execution_count": 2,
   "metadata": {},
   "outputs": [],
   "source": [
    "figsize = (8, 4)\n",
    "title_fontsize = 20\n",
    "tick_label_fontsize = 14\n",
    "legend_fontsize = 14\n",
    "axis_label_fontsize = 16\n",
    "text_fontsize = 18"
   ]
  },
  {
   "cell_type": "markdown",
   "metadata": {},
   "source": [
    "# Actograms"
   ]
  },
  {
   "cell_type": "code",
   "execution_count": 3,
   "metadata": {},
   "outputs": [],
   "source": [
    "hours_per_day = 24\n",
    "colors_cmap = [\"black\", \"gold\"]\n",
    "position = [0, 1]\n",
    "\n",
    "custom_cmap = colors.LinearSegmentedColormap.from_list(\n",
    "    \"custom_cmap\", list(zip(position, colors_cmap)))"
   ]
  },
  {
   "cell_type": "markdown",
   "metadata": {},
   "source": [
    "I'm going to plot the light first, and then on top of that, superimpose sleep as striped lines maybe?\n"
   ]
  },
  {
   "cell_type": "code",
   "execution_count": null,
   "metadata": {},
   "outputs": [],
   "source": [
    "def next_multiple_of_ten(n):\n",
    "    return ((n + 9) // 10) * 10\n",
    "\n",
    "\n",
    "def plot_actogram_double_plotted(light, sleep, dt, simulation_days,\n",
    "                                 vmax=None, save_name=None, nancolor='lightgrey'):\n",
    "    light = np.array(light)\n",
    "    # Set sleep values to NaN in the light array for plotting purposes\n",
    "    if sleep is not None:\n",
    "        sleep = np.array(sleep)\n",
    "        # Mask the light values during sleep\n",
    "        light[sleep == 1] = np.nan  # Assuming sleep=1 indicates sleep period\n",
    "\n",
    "    custom_cmap.set_bad(color=nancolor)  # Set color for NaNs\n",
    "\n",
    "    if vmax is None:\n",
    "        vmax = next_multiple_of_ten(np.nanmax(light))\n",
    "    norm = colors.Normalize(vmin=0,\n",
    "                    vmax=vmax)\n",
    "    \n",
    "\n",
    "    amplitude_delta = light\n",
    "    amplitude_delta = amplitude_delta.reshape(-1, 1)\n",
    "\n",
    "    scaled_data = amplitude_delta.reshape(\n",
    "        (simulation_days, int(hours_per_day / dt))) # * dlmo_collection\n",
    "\n",
    "    double_plotted_data = np.zeros(\n",
    "        (simulation_days, int(hours_per_day / dt * 2)))\n",
    "\n",
    "    # Last day does not have a \"next day\" to concatenate\n",
    "    for day in range(simulation_days - 1):\n",
    "        double_plotted_data[day] = np.concatenate(\n",
    "            (scaled_data[day], scaled_data[day + 1]))\n",
    "    double_plotted_data[-1] = np.concatenate(\n",
    "        (scaled_data[-1], np.zeros_like(scaled_data[-1])))\n",
    "\n",
    "    fig, ax = plt.subplots(figsize=figsize)\n",
    "\n",
    "    # norm.autoscale_None([np.nan])  # Auto-scale to include NaN\n",
    "    # Log norm including nan\n",
    "    norm = colors.SymLogNorm(linthresh=0.03, linscale=0.03, vmin=0, vmax=vmax)\n",
    "    norm.autoscale_None([np.nan])  # Auto-scale to include NaN\n",
    "\n",
    "    cax = ax.imshow(double_plotted_data, aspect='auto',\n",
    "                    cmap=custom_cmap, norm=norm , interpolation='none',\n",
    "                    rasterized=True)\n",
    "\n",
    "\n",
    "    # Adjust ticks for 48-hour x-axis\n",
    "    dt_plot = 4\n",
    "    x_ticks = np.arange(0, hours_per_day / dt * 2, dt_plot / dt)\n",
    "\n",
    "    x_tick_labels = [str(int(x % hours_per_day))\n",
    "                     for x in np.arange(0, hours_per_day * 2, dt_plot)]\n",
    "    ax.set_xlabel('Local time', fontsize=axis_label_fontsize)\n",
    "    ax.set_ylabel('Day', fontsize=axis_label_fontsize)\n",
    "    ax.set_xticks(x_ticks)\n",
    "    ax.set_xticklabels(x_tick_labels, fontsize=tick_label_fontsize)\n",
    "\n",
    "    day_step = 2\n",
    "    ax.set_yticks(np.arange(0, simulation_days, day_step))\n",
    "    ax.set_yticklabels(np.arange(1, simulation_days + 1, day_step),\n",
    "                       fontsize=tick_label_fontsize)\n",
    "    ax.grid(False)\n",
    "    ax.spines['top'].set_visible(False)\n",
    "    ax.spines['right'].set_visible(False)\n",
    "\n",
    "    # Cbar ticks\n",
    "    cbar = fig.colorbar(cax, ax=ax, pad=0.01)\n",
    "\n",
    "    cbar_label_numbers = [0, 0.1, 1, 10, 100, 1000, 5000]\n",
    "    cbar.set_ticks(cbar_label_numbers)\n",
    "    cbar_labels = [f\"{x}\" for x in cbar_label_numbers]\n",
    "\n",
    "    cbar.set_ticklabels(cbar_labels)\n",
    "    cbar.ax.tick_params(labelsize=tick_label_fontsize)\n",
    "    cbar.ax.get_yaxis().labelpad = 25\n",
    "    cbar.ax.set_ylabel('Light level (lux)', rotation=270, fontsize=axis_label_fontsize)\n",
    "\n",
    "\n",
    "    # Cbar title fontsize and location\n",
    "    cbar.ax.yaxis.label.set_fontsize(axis_label_fontsize)\n",
    "    # cbar.ax.yaxis.set_label_coords(5.5, 0.5)\n",
    "\n",
    "    # Make last day white as a white box\n",
    "    rect_x = 24.0 / dt\n",
    "    rect_y = 18.5\n",
    "    rect_width = 24 / dt\n",
    "    rect_height = 1.0\n",
    "    rect = patches.Rectangle((rect_x, rect_y), rect_width, rect_height, \n",
    "                             linewidth=0, edgecolor='black', facecolor='white')\n",
    "    ax.add_patch(rect)\n",
    "\n",
    "    # Add a legend for nan values\n",
    "    if nancolor is not None:\n",
    "        legend_patch = patches.Patch(color=nancolor, label='Sleep')\n",
    "        ax.legend(handles=[legend_patch], loc='upper right', fontsize=legend_fontsize,\n",
    "                  bbox_to_anchor=(0.99, 1.2))\n",
    "    \n",
    "    plt.tight_layout()\n",
    "    if save_name:\n",
    "        plt.savefig(save_name, bbox_inches='tight')\n",
    "        core_save_name = save_name.split('.')[0]\n",
    "        plt.savefig(f\"{core_save_name}.png\", bbox_inches='tight', dpi=300)\n",
    "    plt.show()\n",
    "    plt.close()"
   ]
  },
  {
   "cell_type": "code",
   "execution_count": 97,
   "metadata": {},
   "outputs": [
    {
     "data": {
      "image/png": "[encoded data removed]",
      "text/plain": [
       "<Figure size 800x400 with 2 Axes>"
      ]
     },
     "metadata": {},
     "output_type": "display_data"
    }
   ],
   "source": [
    "data_path = 'data/amplitude_simulations/'\n",
    "fig_save_path = 'figures'\n",
    "\n",
    "dt = 0.001\n",
    "simulation_days = 20\n",
    "last_day_start = int((simulation_days - 1) * 24 / dt)\n",
    "day_length_in_idx = int(24.0 / dt) - 1\n",
    "time_array = np.arange(0, simulation_days * 24, dt)  # Time array for the entire simulation\n",
    "\n",
    "data_pairs_to_plot = [ # (baseline_lux, pulse_at)\n",
    "    # (0.0, 0.0), (0.0, 7.0), (0.0, 14.0),\n",
    "    # (100.0, 0.0), (100.0, 7.0), (100.0, 14.0),\n",
    "    # (1000.0, 0.0), (1000.0, 7.0), (1000.0, 14.0),\n",
    "    (0.0, 0.0)\n",
    "\n",
    "]\n",
    "for (baseline_lux, pulse_at) in data_pairs_to_plot:\n",
    "    data = np.load(f'{data_path}baseline_{baseline_lux}_pulse_at_{pulse_at}.npz')\n",
    "    sol = data['sol']\n",
    "    light = data['light_history']\n",
    "    sleep = data['sleep_history']\n",
    "    light = np.concatenate(([light[0]], light))\n",
    "    save_name = f'{fig_save_path}/fig_3_baseline_lux_{baseline_lux}_pulse_at_{pulse_at}.png'\n",
    "    plot_actogram_double_plotted(light, sleep, dt, simulation_days)# , save_name=save_name)"
   ]
  },
  {
   "cell_type": "code",
   "execution_count": null,
   "metadata": {},
   "outputs": [],
   "source": []
  }
 ],
 "metadata": {
  "kernelspec": {
   "display_name": ".venv",
   "language": "python",
   "name": "python3"
  },
  "language_info": {
   "codemirror_mode": {
    "name": "ipython",
    "version": 3
   },
   "file_extension": ".py",
   "mimetype": "text/x-python",
   "name": "python",
   "nbconvert_exporter": "python",
   "pygments_lexer": "ipython3",
   "version": "3.13.2"
  }
 },
 "nbformat": 4,
 "nbformat_minor": 2
}
