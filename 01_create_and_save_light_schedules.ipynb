{
 "cells": [
  {
   "cell_type": "markdown",
   "metadata": {},
   "source": [
    "Since `Chang14` light schedules with small `dt` take long to generate, we calculate them once and save the results. This notebook generates the time grids and saves them in `data/light_schedules/`."
   ]
  },
  {
   "cell_type": "code",
   "execution_count": 1,
   "metadata": {},
   "outputs": [],
   "source": [
    "import os\n",
    "import numpy as np\n",
    "from circadian.lights import LightSchedule"
   ]
  },
  {
   "cell_type": "code",
   "execution_count": 2,
   "metadata": {},
   "outputs": [],
   "source": [
    "save_path = \"data/light_schedules\"\n",
    "if not os.path.exists(save_path):\n",
    "    os.makedirs(save_path)"
   ]
  },
  {
   "cell_type": "code",
   "execution_count": 3,
   "metadata": {},
   "outputs": [],
   "source": [
    "dt = 0.005 # hours\n",
    "days = 14.0\n",
    "# Regular schedule parameters\n",
    "regular_indoor_lux = 1000.0\n",
    "regular_parameters = {\n",
    "    \"lights_on\": 6.0,\n",
    "    \"lights_off\": 22.0,\n",
    "}\n",
    "# Chang et al. 2014 conditions\n",
    "chang14_parameters = {\n",
    "    \"typical_indoor_lux\": 90.0,\n",
    "    \"dim_lux\": 3.0,\n",
    "    \"ereader_lux\": 31.73,\n",
    "    \"book_lux\": 0.91,\n",
    "    \"reading_start_time\": 18.0,\n",
    "    \"reading_duration\": 4.0,\n",
    "}\n",
    "# Realistic conditions\n",
    "realistic_parameters = {\n",
    "    \"typical_indoor_lux\": 500.0, # change here\n",
    "    \"dim_lux\": 3.0,\n",
    "    \"ereader_lux\": 31.73,\n",
    "    \"book_lux\": 0.91,\n",
    "    \"reading_start_time\": 21.0, # change here\n",
    "    \"reading_duration\": 1.0, # change here\n",
    "}"
   ]
  },
  {
   "cell_type": "code",
   "execution_count": 4,
   "metadata": {},
   "outputs": [],
   "source": [
    "time = np.arange(0, 24*days, dt)"
   ]
  },
  {
   "cell_type": "code",
   "execution_count": 5,
   "metadata": {},
   "outputs": [],
   "source": [
    "regular_schedule = LightSchedule.Regular(regular_indoor_lux, **regular_parameters)\n",
    "\n",
    "chang14_ebook_first_schedule = LightSchedule.Chang14(**chang14_parameters,\n",
    "                                                     first_reading_condition=\"eReader\")\n",
    "chang14_ebook_second_schedule = LightSchedule.Chang14(**chang14_parameters,\n",
    "                                                      first_reading_condition=\"Book\")\n",
    "realistic_ebook_first_schedule = LightSchedule.Chang14(**realistic_parameters,\n",
    "                                                       first_reading_condition=\"eReader\")\n",
    "realistic_ebook_second_schedule = LightSchedule.Chang14(**realistic_parameters,\n",
    "                                                        first_reading_condition=\"Book\")"
   ]
  },
  {
   "cell_type": "code",
   "execution_count": 6,
   "metadata": {},
   "outputs": [],
   "source": [
    "# Runtime: ~ 17 minutes\n",
    "regular_light = regular_schedule(time)\n",
    "chang14_ebook_first_light = chang14_ebook_first_schedule(time)\n",
    "chang14_ebook_second_light = chang14_ebook_second_schedule(time)\n",
    "realistic_ebook_first_light = realistic_ebook_first_schedule(time)\n",
    "realistic_ebook_second_light = realistic_ebook_second_schedule(time)"
   ]
  },
  {
   "cell_type": "code",
   "execution_count": 7,
   "metadata": {},
   "outputs": [],
   "source": [
    "np.savez(f\"{save_path}/parameters_light_schedules.npz\",\n",
    "         regular_indoor_lux=regular_indoor_lux,\n",
    "         regular_parameters=regular_parameters,\n",
    "         chang14_parameters=chang14_parameters,\n",
    "         realistic_parameters=realistic_parameters)"
   ]
  },
  {
   "cell_type": "code",
   "execution_count": 8,
   "metadata": {},
   "outputs": [],
   "source": [
    "np.save(f\"{save_path}/time.npy\", time)\n",
    "np.save(f\"{save_path}/regular_light.npy\", regular_light)\n",
    "np.save(f\"{save_path}/chang14_ebook_first_light.npy\", chang14_ebook_first_light)\n",
    "np.save(f\"{save_path}/chang14_ebook_second_light.npy\", chang14_ebook_second_light)\n",
    "np.save(f\"{save_path}/realistic_ebook_first_light.npy\", realistic_ebook_first_light)\n",
    "np.save(f\"{save_path}/realistic_ebook_second_light.npy\", realistic_ebook_second_light)"
   ]
  }
 ],
 "metadata": {
  "kernelspec": {
   "display_name": ".venv",
   "language": "python",
   "name": "python3"
  },
  "language_info": {
   "codemirror_mode": {
    "name": "ipython",
    "version": 3
   },
   "file_extension": ".py",
   "mimetype": "text/x-python",
   "name": "python",
   "nbconvert_exporter": "python",
   "pygments_lexer": "ipython3",
   "version": "3.11.0"
  }
 },
 "nbformat": 4,
 "nbformat_minor": 2
}
