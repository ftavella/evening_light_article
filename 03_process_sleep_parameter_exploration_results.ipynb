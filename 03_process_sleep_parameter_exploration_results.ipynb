{
 "cells": [
  {
   "cell_type": "code",
   "execution_count": 1,
   "metadata": {},
   "outputs": [],
   "source": [
    "import os\n",
    "import numpy as np\n",
    "import pandas as pd"
   ]
  },
  {
   "cell_type": "code",
   "execution_count": 2,
   "metadata": {},
   "outputs": [],
   "source": [
    "save_path = \"data/sleep_parameter_exploration\"\n",
    "if not os.path.exists(save_path):\n",
    "    os.makedirs(save_path)"
   ]
  },
  {
   "cell_type": "code",
   "execution_count": 3,
   "metadata": {},
   "outputs": [],
   "source": [
    "total_simulations = 125\n",
    "sleep_time_threshold = 6.5\n",
    "number_of_switches_threshold = 2.0"
   ]
  },
  {
   "cell_type": "code",
   "execution_count": 5,
   "metadata": {},
   "outputs": [],
   "source": [
    "# Calculate sleep time and number of switches\n",
    "zone_of_interest = [22.0, 30.0] # hours\n",
    "parameter_exploration = pd.DataFrame({})\n",
    "for idx in range(total_simulations):\n",
    "    # Load simulation data\n",
    "    data = np.load(f'data/sleep_parameter_exploration/skeldon23_parameter_exploration_{idx}.npz', allow_pickle=True)\n",
    "    simulation = data['result_data'].item()\n",
    "    parameters = simulation[\"parameters\"]\n",
    "    model = simulation[\"simulation_model\"]\n",
    "    trajectory = simulation[\"trajectory\"]\n",
    "    time = trajectory.time\n",
    "    time_of_interest_mask = (time >= zone_of_interest[0]) & (time <= zone_of_interest[1])\n",
    "    time_of_interest = time[time_of_interest_mask]\n",
    "    sleep = model.sleep_state\n",
    "    sleep_of_interest = sleep[time_of_interest_mask]\n",
    "    # percentage of sleep equal to 1\n",
    "    sleep_time_fraction = np.sum(sleep_of_interest) / len(sleep_of_interest)\n",
    "    sleep_time = sleep_time_fraction * (zone_of_interest[1] - zone_of_interest[0])\n",
    "    # number of switches\n",
    "    number_of_switches = np.sum(np.abs(np.diff(sleep_of_interest)))\n",
    "    # final state of the simulation\n",
    "    final_state = trajectory.states[-1, :]\n",
    "    result = pd.DataFrame({\n",
    "        'mu': parameters['mu'],\n",
    "        'Delta': parameters['Delta'],\n",
    "        'chi': parameters['chi'],\n",
    "        'sleep_time': sleep_time,\n",
    "        'number_of_switches': number_of_switches,\n",
    "        'x_f': final_state[0],\n",
    "        'xc_f': final_state[1],\n",
    "        'n_f': final_state[2],\n",
    "        'H_f': final_state[3],\n",
    "        'S_f': sleep[-1],\n",
    "    }, index=[idx])\n",
    "    parameter_exploration = pd.concat([parameter_exploration, result])"
   ]
  },
  {
   "cell_type": "code",
   "execution_count": 6,
   "metadata": {},
   "outputs": [],
   "source": [
    "desired_sleep_time = parameter_exploration['sleep_time'] >= sleep_time_threshold\n",
    "desired_number_of_switches = parameter_exploration['number_of_switches'] <= number_of_switches_threshold\n",
    "selected_parameters = parameter_exploration[desired_sleep_time & desired_number_of_switches]"
   ]
  },
  {
   "cell_type": "code",
   "execution_count": 8,
   "metadata": {},
   "outputs": [],
   "source": [
    "selected_parameters.index.name = 'simulation_id'\n",
    "selected_parameters.to_csv(f\"{save_path}/selected_sleep_parameters.csv\")"
   ]
  }
 ],
 "metadata": {
  "kernelspec": {
   "display_name": ".venv",
   "language": "python",
   "name": "python3"
  },
  "language_info": {
   "codemirror_mode": {
    "name": "ipython",
    "version": 3
   },
   "file_extension": ".py",
   "mimetype": "text/x-python",
   "name": "python",
   "nbconvert_exporter": "python",
   "pygments_lexer": "ipython3",
   "version": "3.11.0"
  }
 },
 "nbformat": 4,
 "nbformat_minor": 2
}
