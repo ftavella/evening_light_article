{
 "cells": [
  {
   "cell_type": "code",
   "execution_count": 1,
   "metadata": {},
   "outputs": [],
   "source": [
    "import os\n",
    "import numpy as np\n",
    "import pandas as pd\n",
    "from utils.helper_functions import calculate_cbtmin, calculate_sleep_onset, calculate_sleep_duration"
   ]
  },
  {
   "cell_type": "code",
   "execution_count": 2,
   "metadata": {},
   "outputs": [],
   "source": [
    "save_path = f\"data/chang14_realistic_conditions\""
   ]
  },
  {
   "cell_type": "code",
   "execution_count": 3,
   "metadata": {},
   "outputs": [],
   "source": [
    "selected_parameters = pd.read_csv(f\"data/sleep_parameter_exploration/selected_sleep_parameters.csv\",\n",
    "                                  index_col=0)"
   ]
  },
  {
   "cell_type": "code",
   "execution_count": 4,
   "metadata": {},
   "outputs": [],
   "source": [
    "time = np.load(\"data/light_schedules/time.npy\")"
   ]
  },
  {
   "cell_type": "code",
   "execution_count": 5,
   "metadata": {},
   "outputs": [],
   "source": [
    "DAILY_CONDITION_EBOOK_FIRST = [\n",
    "    'None',\n",
    "    'eBook', 'eBook', 'eBook', 'eBook', 'eBook',\n",
    "    'None',\n",
    "    'Book', 'Book', 'Book', 'Book', 'Book',\n",
    "    'None',\n",
    "]\n",
    "DAILY_CONDITION_EBOOK_SECOND = [\n",
    "    'None',\n",
    "    'Book', 'Book', 'Book', 'Book', 'Book',\n",
    "    'None',\n",
    "    'eBook', 'eBook', 'eBook', 'eBook', 'eBook',\n",
    "    'None',\n",
    "]\n",
    "\n",
    "DAILY_CONDITION_CHOICE = {\n",
    "    'chang14_ebook_first': DAILY_CONDITION_EBOOK_FIRST,\n",
    "    'chang14_ebook_second': DAILY_CONDITION_EBOOK_SECOND,\n",
    "}"
   ]
  },
  {
   "cell_type": "code",
   "execution_count": 8,
   "metadata": {},
   "outputs": [],
   "source": [
    "realistic_conditions = [\n",
    "    (90, 1), (90, 2), (90, 3),\n",
    "    (140, 4), (190, 4), (240, 4),\n",
    "]\n",
    "ebook_order_conditions = ['chang14_ebook_first', 'chang14_ebook_second']"
   ]
  },
  {
   "cell_type": "code",
   "execution_count": 12,
   "metadata": {},
   "outputs": [],
   "source": [
    "simulation_features = pd.DataFrame()\n",
    "\n",
    "for condition in realistic_conditions:\n",
    "    indoor_light, reading_duration = condition\n",
    "    simulation_data_path = f\"data/chang14_realistic_conditions/{indoor_light}_lux_{reading_duration}_hours\"\n",
    "    for idx in selected_parameters.index:\n",
    "        data = np.load(f\"{simulation_data_path}/simulation_{indoor_light}_lux_{reading_duration}_hours_{idx}.npz\")\n",
    "        for reading_condition in ebook_order_conditions:\n",
    "            sleep_onset = calculate_sleep_onset(time, data, reading_condition)\n",
    "            cbtmin = calculate_cbtmin(time, data, reading_condition)\n",
    "            sleep_duration = calculate_sleep_duration(time, data, reading_condition)\n",
    "\n",
    "            min_length = min(len(sleep_onset), len(cbtmin))\n",
    "            sleep_onset = sleep_onset[:min_length]\n",
    "            cbtmin = cbtmin[:min_length]\n",
    "            sleep_duration = sleep_duration[:min_length]\n",
    "\n",
    "            normalized_sleep_onset = sleep_onset - np.arange(1, len(sleep_onset) + 1) * 24 + 24\n",
    "            normalized_cbtmin = cbtmin - np.arange(1, len(cbtmin) + 1) * 24 + 24\n",
    "            normalized_sleep_latency = (normalized_sleep_onset - 22.0) * 60\n",
    "            normalized_sleep_latency = (sleep_onset % 24 - 22.0) * 60\n",
    "            normalized_sleep_latency[normalized_sleep_latency < 0] = 0.0\n",
    "\n",
    "            daily_condition = DAILY_CONDITION_CHOICE[reading_condition]\n",
    "\n",
    "            data_subset = {\n",
    "                'simulation_idx': idx,\n",
    "                'day': np.arange(1, len(cbtmin) + 1),\n",
    "                'simulation_condition': reading_condition,\n",
    "                'sleep_onset': normalized_sleep_onset,\n",
    "                'sleep_duration': sleep_duration,\n",
    "                'cbtmin': normalized_cbtmin,\n",
    "                'sleep_latency_minutes': normalized_sleep_latency,\n",
    "                'daily_condition': daily_condition[:min_length],\n",
    "                'indoor_light': indoor_light,\n",
    "                'reading_duration': reading_duration,\n",
    "            }\n",
    "            simulation_features = pd.concat([simulation_features, pd.DataFrame(data_subset)])"
   ]
  },
  {
   "cell_type": "code",
   "execution_count": 14,
   "metadata": {},
   "outputs": [],
   "source": [
    "simulation_features.to_csv(f\"{save_path}/realistic_conditions_simulation_features.csv\",\n",
    "                           index=False)"
   ]
  }
 ],
 "metadata": {
  "kernelspec": {
   "display_name": ".venv",
   "language": "python",
   "name": "python3"
  },
  "language_info": {
   "codemirror_mode": {
    "name": "ipython",
    "version": 3
   },
   "file_extension": ".py",
   "mimetype": "text/x-python",
   "name": "python",
   "nbconvert_exporter": "python",
   "pygments_lexer": "ipython3",
   "version": "3.11.0"
  }
 },
 "nbformat": 4,
 "nbformat_minor": 2
}
