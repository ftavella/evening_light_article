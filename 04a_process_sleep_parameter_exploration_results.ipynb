{
 "cells": [
  {
   "cell_type": "code",
   "execution_count": 1,
   "metadata": {},
   "outputs": [],
   "source": [
    "import os\n",
    "import numpy as np\n",
    "import pandas as pd"
   ]
  },
  {
   "cell_type": "code",
   "execution_count": 2,
   "metadata": {},
   "outputs": [],
   "source": [
    "save_path = \"data/sleep_parameter_exploration\"\n",
    "if not os.path.exists(save_path):\n",
    "    os.makedirs(save_path)"
   ]
  },
  {
   "cell_type": "code",
   "execution_count": 3,
   "metadata": {},
   "outputs": [],
   "source": [
    "total_simulations = 125\n",
    "sleep_time_threshold = 6.5\n",
    "number_of_switches_threshold = 2.0"
   ]
  },
  {
   "cell_type": "code",
   "execution_count": 5,
   "metadata": {},
   "outputs": [],
   "source": [
    "light_conditions = [\"early\", \"late\"]\n",
    "zones_of_interest = [[21.0, 31.0], [23.0, 33.0]] # hours\n",
    "for idx, light_condition in enumerate(light_conditions):\n",
    "    # Calculate sleep time and number of switches\n",
    "    zone_of_interest = zones_of_interest[idx]\n",
    "    parameter_exploration = pd.DataFrame({})\n",
    "    for idx in range(total_simulations):\n",
    "        # Load simulation data\n",
    "        data = np.load(f'data/sleep_parameter_exploration/{light_condition}_light_skeldon23_parameter_exploration_{idx}.npz', \n",
    "                    allow_pickle=True)\n",
    "        simulation = data['result_data'].item()\n",
    "        parameters = simulation[\"parameters\"]\n",
    "        model = simulation[\"simulation_model\"]\n",
    "        trajectory = simulation[\"trajectory\"]\n",
    "        time = trajectory.time\n",
    "        dt = time[1] - time[0]\n",
    "        time_of_interest_mask = (time >= zone_of_interest[0]) & (time <= zone_of_interest[1])\n",
    "        time_of_interest = time[time_of_interest_mask]\n",
    "        sleep = model.sleep_state\n",
    "        sleep_of_interest = sleep[time_of_interest_mask]\n",
    "        # number of switches\n",
    "        number_of_switches = np.sum(np.abs(np.diff(sleep_of_interest)))\n",
    "        # bedtime\n",
    "        sleep_state_change = np.where(np.diff(sleep_of_interest) == 1)[0]\n",
    "        bedtime = time_of_interest[sleep_state_change[0]]\n",
    "        # wake up time\n",
    "        sleep_state_change = np.where(np.diff(sleep_of_interest) == -1)[0]\n",
    "        wake_up_time = time_of_interest[sleep_state_change[-1]]\n",
    "        # sleep time\n",
    "        sleep_time = wake_up_time - bedtime\n",
    "        # final state of the simulation\n",
    "        final_state = trajectory.states[-1, :]\n",
    "        # DLMO\n",
    "        dlmos = model.dlmos()\n",
    "        result = pd.DataFrame({\n",
    "            'mu': parameters['mu'],\n",
    "            'Delta': parameters['Delta'],\n",
    "            'chi': parameters['chi'],\n",
    "            'sleep_time': sleep_time,\n",
    "            'bedtime': bedtime,\n",
    "            'dlmo': dlmos[1],\n",
    "            'number_of_switches': number_of_switches,\n",
    "            'x_f': final_state[0],\n",
    "            'xc_f': final_state[1],\n",
    "            'n_f': final_state[2],\n",
    "            'H_f': final_state[3],\n",
    "            'S_f': sleep[-1],\n",
    "        }, index=[idx])\n",
    "        parameter_exploration = pd.concat([parameter_exploration, result])\n",
    "\n",
    "\n",
    "    desired_sleep_time = parameter_exploration['sleep_time'] >= sleep_time_threshold\n",
    "    desired_number_of_switches = parameter_exploration['number_of_switches'] <= number_of_switches_threshold\n",
    "    selected_parameters = parameter_exploration[desired_sleep_time & desired_number_of_switches]\n",
    "\n",
    "    selected_parameters.index.name = 'simulation_id'\n",
    "    selected_parameters.to_csv(f\"{save_path}/{light_condition}_light_selected_sleep_parameters.csv\")"
   ]
  }
 ],
 "metadata": {
  "kernelspec": {
   "display_name": ".venv",
   "language": "python",
   "name": "python3"
  },
  "language_info": {
   "codemirror_mode": {
    "name": "ipython",
    "version": 3
   },
   "file_extension": ".py",
   "mimetype": "text/x-python",
   "name": "python",
   "nbconvert_exporter": "python",
   "pygments_lexer": "ipython3",
   "version": "3.12.3"
  }
 },
 "nbformat": 4,
 "nbformat_minor": 2
}
