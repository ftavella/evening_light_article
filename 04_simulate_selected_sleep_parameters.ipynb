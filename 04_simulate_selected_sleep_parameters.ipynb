{
 "cells": [
  {
   "cell_type": "code",
   "execution_count": 10,
   "metadata": {},
   "outputs": [],
   "source": [
    "import os\n",
    "import numpy as np\n",
    "import pandas as pd\n",
    "from tqdm.notebook import tqdm\n",
    "from circadian.models import Skeldon23\n",
    "from utils.helper_functions import H_thresholds"
   ]
  },
  {
   "cell_type": "code",
   "execution_count": 11,
   "metadata": {},
   "outputs": [],
   "source": [
    "save_path = \"data/chang14_selected_sleep_parameters/\"\n",
    "if not os.path.exists(save_path):\n",
    "    os.makedirs(save_path)"
   ]
  },
  {
   "cell_type": "code",
   "execution_count": 12,
   "metadata": {},
   "outputs": [
    {
     "data": {
      "application/vnd.jupyter.widget-view+json": {
       "model_id": "20c8c2751fd54f6fa55102211b4081f3",
       "version_major": 2,
       "version_minor": 0
      },
      "text/plain": [
       "Simulating:   0%|          | 0/61 [00:00<?, ?it/s]"
      ]
     },
     "metadata": {},
     "output_type": "display_data"
    }
   ],
   "source": [
    "forced_wakeup_threshold = 0.5 # lux\n",
    "\n",
    "light_data_location = 'data/light_schedules/'\n",
    "time = np.load(f\"{light_data_location}/time.npy\")\n",
    "regular_light = np.load(f\"{light_data_location}/regular_light.npy\")\n",
    "chang14_ebook_first_light = np.load(f\"{light_data_location}/chang14_ebook_first_light.npy\")\n",
    "chang14_ebook_second_light = np.load(f\"{light_data_location}/chang14_ebook_second_light.npy\")\n",
    "realistic_ebook_first_light = np.load(f\"{light_data_location}/realistic_ebook_first_light.npy\")\n",
    "realistic_ebook_second_light = np.load(f\"{light_data_location}/realistic_ebook_second_light.npy\")\n",
    "\n",
    "for idx in tqdm(selected_parameters.index, desc='Simulating', total=len(selected_parameters)):\n",
    "    # Parameters\n",
    "    mu = selected_parameters.loc[idx, 'mu']\n",
    "    delta = selected_parameters.loc[idx, 'Delta']\n",
    "    chi = selected_parameters.loc[idx, 'chi']\n",
    "    # Initial condition\n",
    "    initial_condition = np.array([\n",
    "        selected_parameters.loc[idx, 'x_f'],\n",
    "        selected_parameters.loc[idx, 'xc_f'],\n",
    "        selected_parameters.loc[idx, 'n_f'],\n",
    "        selected_parameters.loc[idx, 'H_f'],\n",
    "    ])\n",
    "    S0 = selected_parameters.loc[idx, 'S_f']\n",
    "    parameters = {\n",
    "        'S0': S0,\n",
    "        'mu': mu, 'Delta': delta, 'chi': chi,\n",
    "        'forced_wakeup_light_threshold': forced_wakeup_threshold,\n",
    "    }\n",
    "    # Regular simulation\n",
    "    regular_model = Skeldon23(params=parameters)\n",
    "    regular_trajectory = regular_model.integrate(time, \n",
    "                                                 initial_condition=initial_condition,\n",
    "                                                 input=regular_light)\n",
    "    regular_H_plus, regular_H_minus = H_thresholds(regular_model, regular_trajectory)\n",
    "    # Chang14 Ebook first simulation\n",
    "    chang14_ebook_first_model = Skeldon23(params=parameters)\n",
    "    chang14_ebook_first_trajectory = chang14_ebook_first_model.integrate(time, \n",
    "                                                                         initial_condition=initial_condition, \n",
    "                                                                         input=chang14_ebook_first_light)\n",
    "    chang14_ebook_first_H_plus, chang14_ebook_first_H_minus = H_thresholds(chang14_ebook_first_model, chang14_ebook_first_trajectory)\n",
    "    # Chang14 Ebook second simulation\n",
    "    chang14_ebook_second_model = Skeldon23(params=parameters)\n",
    "    chang14_ebook_second_trajectory = chang14_ebook_second_model.integrate(time, \n",
    "                                                          initial_condition=initial_condition,\n",
    "                                                          input=chang14_ebook_second_light)\n",
    "    chang14_ebook_second_H_plus, chang14_ebook_second_H_minus = H_thresholds(chang14_ebook_second_model, chang14_ebook_second_trajectory)\n",
    "    # Realistic Ebook first simulation\n",
    "    realistic_ebook_first_model = Skeldon23(params=parameters)\n",
    "    realistic_ebook_first_trajectory = realistic_ebook_first_model.integrate(time, \n",
    "                                                                             initial_condition=initial_condition, \n",
    "                                                                             input=realistic_ebook_first_light)\n",
    "    realistic_ebook_first_H_plus, realistic_ebook_first_H_minus = H_thresholds(realistic_ebook_first_model, realistic_ebook_first_trajectory)\n",
    "    # Realistic Ebook second simulation\n",
    "    realistic_ebook_second_model = Skeldon23(params=parameters)\n",
    "    realistic_ebook_second_trajectory = realistic_ebook_second_model.integrate(time, \n",
    "                                                                              initial_condition=initial_condition,\n",
    "                                                                              input=realistic_ebook_second_light)\n",
    "    realistic_ebook_second_H_plus, realistic_ebook_second_H_minus = H_thresholds(realistic_ebook_second_model, realistic_ebook_second_trajectory)\n",
    "    # Save data\n",
    "    np.savez(f\"{save_path}/sleep_parameters_chang14_simulation_{idx}.npz\",\n",
    "             time=time,\n",
    "             parameters=parameters,\n",
    "             initial_condition=initial_condition,\n",
    "             regular_trajectory_states=regular_trajectory.states,\n",
    "             regular_light=regular_light,\n",
    "             regular_sleep=regular_model.sleep_state,\n",
    "             regular_H_plus=regular_H_plus,\n",
    "             regular_H_minus=regular_H_minus,\n",
    "             chang14_ebook_first_trajectory_states=chang14_ebook_first_trajectory.states,\n",
    "             chang14_ebook_first_light=chang14_ebook_first_light,\n",
    "             chang14_ebook_first_sleep=chang14_ebook_first_model.sleep_state,\n",
    "             chang14_ebook_first_H_plus=chang14_ebook_first_H_plus,\n",
    "             chang14_ebook_first_H_minus=chang14_ebook_first_H_minus,\n",
    "             chang14_ebook_second_trajectory_states=chang14_ebook_second_trajectory.states,\n",
    "             chang14_ebook_second_light=chang14_ebook_second_light,\n",
    "             chang14_ebook_second_sleep=chang14_ebook_second_model.sleep_state,\n",
    "             chang14_ebook_second_H_plus=chang14_ebook_second_H_plus,\n",
    "             chang14_ebook_second_H_minus=chang14_ebook_second_H_minus,\n",
    "             realistic_ebook_first_trajectory_states=realistic_ebook_first_trajectory.states,\n",
    "             realistic_ebook_first_light=realistic_ebook_first_light,\n",
    "             realistic_ebook_first_sleep=realistic_ebook_first_model.sleep_state,\n",
    "             realistic_ebook_first_H_plus=realistic_ebook_first_H_plus,\n",
    "             realistic_ebook_first_H_minus=realistic_ebook_first_H_minus,\n",
    "             realistic_ebook_second_trajectory_states=realistic_ebook_second_trajectory.states,\n",
    "             realistic_ebook_second_light=realistic_ebook_second_light,\n",
    "             realistic_ebook_second_sleep=realistic_ebook_second_model.sleep_state,\n",
    "             realistic_ebook_second_H_plus=realistic_ebook_second_H_plus,\n",
    "             realistic_ebook_second_H_minus=realistic_ebook_second_H_minus,\n",
    "    )"
   ]
  }
 ],
 "metadata": {
  "kernelspec": {
   "display_name": ".venv",
   "language": "python",
   "name": "python3"
  },
  "language_info": {
   "codemirror_mode": {
    "name": "ipython",
    "version": 3
   },
   "file_extension": ".py",
   "mimetype": "text/x-python",
   "name": "python",
   "nbconvert_exporter": "python",
   "pygments_lexer": "ipython3",
   "version": "3.11.0"
  }
 },
 "nbformat": 4,
 "nbformat_minor": 2
}
